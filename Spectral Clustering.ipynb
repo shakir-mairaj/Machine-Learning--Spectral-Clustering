{
 "cells": [
  {
   "cell_type": "code",
   "execution_count": 73,
   "metadata": {},
   "outputs": [],
   "source": [
    "import numpy as np\n",
    "import pandas as pd\n",
    "from matplotlib import pyplot as plt\n"
   ]
  },
  {
   "cell_type": "code",
   "execution_count": 74,
   "metadata": {},
   "outputs": [],
   "source": [
    "ds=pd.read_csv(\"C:\\\\jain.txt\",delimiter = \"\\t\",header=None)"
   ]
  },
  {
   "cell_type": "code",
   "execution_count": 75,
   "metadata": {},
   "outputs": [
    {
     "data": {
      "text/html": [
       "<div>\n",
       "<style scoped>\n",
       "    .dataframe tbody tr th:only-of-type {\n",
       "        vertical-align: middle;\n",
       "    }\n",
       "\n",
       "    .dataframe tbody tr th {\n",
       "        vertical-align: top;\n",
       "    }\n",
       "\n",
       "    .dataframe thead th {\n",
       "        text-align: right;\n",
       "    }\n",
       "</style>\n",
       "<table border=\"1\" class=\"dataframe\">\n",
       "  <thead>\n",
       "    <tr style=\"text-align: right;\">\n",
       "      <th></th>\n",
       "      <th>0</th>\n",
       "      <th>1</th>\n",
       "      <th>2</th>\n",
       "    </tr>\n",
       "  </thead>\n",
       "  <tbody>\n",
       "    <tr>\n",
       "      <th>0</th>\n",
       "      <td>0.85</td>\n",
       "      <td>17.45</td>\n",
       "      <td>2</td>\n",
       "    </tr>\n",
       "    <tr>\n",
       "      <th>1</th>\n",
       "      <td>0.75</td>\n",
       "      <td>15.60</td>\n",
       "      <td>2</td>\n",
       "    </tr>\n",
       "    <tr>\n",
       "      <th>2</th>\n",
       "      <td>3.30</td>\n",
       "      <td>15.45</td>\n",
       "      <td>2</td>\n",
       "    </tr>\n",
       "    <tr>\n",
       "      <th>3</th>\n",
       "      <td>5.25</td>\n",
       "      <td>14.20</td>\n",
       "      <td>2</td>\n",
       "    </tr>\n",
       "    <tr>\n",
       "      <th>4</th>\n",
       "      <td>4.90</td>\n",
       "      <td>15.65</td>\n",
       "      <td>2</td>\n",
       "    </tr>\n",
       "    <tr>\n",
       "      <th>...</th>\n",
       "      <td>...</td>\n",
       "      <td>...</td>\n",
       "      <td>...</td>\n",
       "    </tr>\n",
       "    <tr>\n",
       "      <th>368</th>\n",
       "      <td>38.75</td>\n",
       "      <td>16.85</td>\n",
       "      <td>1</td>\n",
       "    </tr>\n",
       "    <tr>\n",
       "      <th>369</th>\n",
       "      <td>39.00</td>\n",
       "      <td>16.60</td>\n",
       "      <td>1</td>\n",
       "    </tr>\n",
       "    <tr>\n",
       "      <th>370</th>\n",
       "      <td>38.25</td>\n",
       "      <td>17.35</td>\n",
       "      <td>1</td>\n",
       "    </tr>\n",
       "    <tr>\n",
       "      <th>371</th>\n",
       "      <td>39.50</td>\n",
       "      <td>16.95</td>\n",
       "      <td>1</td>\n",
       "    </tr>\n",
       "    <tr>\n",
       "      <th>372</th>\n",
       "      <td>39.90</td>\n",
       "      <td>17.05</td>\n",
       "      <td>1</td>\n",
       "    </tr>\n",
       "  </tbody>\n",
       "</table>\n",
       "<p>373 rows × 3 columns</p>\n",
       "</div>"
      ],
      "text/plain": [
       "         0      1  2\n",
       "0     0.85  17.45  2\n",
       "1     0.75  15.60  2\n",
       "2     3.30  15.45  2\n",
       "3     5.25  14.20  2\n",
       "4     4.90  15.65  2\n",
       "..     ...    ... ..\n",
       "368  38.75  16.85  1\n",
       "369  39.00  16.60  1\n",
       "370  38.25  17.35  1\n",
       "371  39.50  16.95  1\n",
       "372  39.90  17.05  1\n",
       "\n",
       "[373 rows x 3 columns]"
      ]
     },
     "execution_count": 75,
     "metadata": {},
     "output_type": "execute_result"
    }
   ],
   "source": [
    "ds"
   ]
  },
  {
   "cell_type": "code",
   "execution_count": 76,
   "metadata": {},
   "outputs": [],
   "source": [
    "ds1 = ds.iloc[:,0:2]\n",
    "Arr = np.array(ds1)"
   ]
  },
  {
   "cell_type": "code",
   "execution_count": 77,
   "metadata": {},
   "outputs": [
    {
     "data": {
      "text/plain": [
       "Text(0, 0.5, 'Y')"
      ]
     },
     "execution_count": 77,
     "metadata": {},
     "output_type": "execute_result"
    },
    {
     "data": {
      "image/png": "[encoded data removed]",
      "text/plain": [
       "<Figure size 432x288 with 1 Axes>"
      ]
     },
     "metadata": {
      "needs_background": "light"
     },
     "output_type": "display_data"
    }
   ],
   "source": [
    "plt.scatter(Arr[:,0], Arr[:,1], alpha=0.5, edgecolors='blue')\n",
    "plt.xlabel('X')\n",
    "plt.ylabel('Y')"
   ]
  },
  {
   "cell_type": "code",
   "execution_count": 78,
   "metadata": {},
   "outputs": [
    {
     "name": "stdout",
     "output_type": "stream",
     "text": [
      "[[1 1 1 ... 0 0 0]\n",
      " [1 1 1 ... 0 0 0]\n",
      " [1 1 1 ... 0 0 0]\n",
      " ...\n",
      " [0 0 0 ... 1 1 1]\n",
      " [0 0 0 ... 1 1 1]\n",
      " [0 0 0 ... 1 1 1]]\n"
     ]
    }
   ],
   "source": [
    "from sklearn.metrics import pairwise_distances\n",
    "W = pairwise_distances(Arr, metric=\"euclidean\")\n",
    "vectorizer = np.vectorize(lambda x: 1 if x < 5 else 0)\n",
    "W = np.vectorize(vectorizer)(W)\n",
    "print(W)"
   ]
  },
  {
   "cell_type": "code",
   "execution_count": 79,
   "metadata": {},
   "outputs": [
    {
     "name": "stdout",
     "output_type": "stream",
     "text": [
      "Degree Matrix:\n",
      "[[12  0  0 ...  0  0  0]\n",
      " [ 0 10  0 ...  0  0  0]\n",
      " [ 0  0 14 ...  0  0  0]\n",
      " ...\n",
      " [ 0  0  0 ... 35  0  0]\n",
      " [ 0  0  0 ...  0 40  0]\n",
      " [ 0  0  0 ...  0  0 37]]\n"
     ]
    }
   ],
   "source": [
    "D_M = np.diag(np.sum(np.array(W), axis=1))\n",
    "print('Degree Matrix:')\n",
    "print(D_M)\n"
   ]
  },
  {
   "cell_type": "code",
   "execution_count": 80,
   "metadata": {},
   "outputs": [
    {
     "name": "stdout",
     "output_type": "stream",
     "text": [
      "Laplacian Matrix:\n",
      "[[11 -1 -1 ...  0  0  0]\n",
      " [-1  9 -1 ...  0  0  0]\n",
      " [-1 -1 13 ...  0  0  0]\n",
      " ...\n",
      " [ 0  0  0 ... 34 -1 -1]\n",
      " [ 0  0  0 ... -1 39 -1]\n",
      " [ 0  0  0 ... -1 -1 36]]\n"
     ]
    }
   ],
   "source": [
    "L_M = D_M - W\n",
    "print('Laplacian Matrix:')\n",
    "print(L_M)"
   ]
  },
  {
   "cell_type": "code",
   "execution_count": 81,
   "metadata": {},
   "outputs": [
    {
     "name": "stdout",
     "output_type": "stream",
     "text": [
      "eigenvalues:\n",
      "[4.99600361e-15 3.00263178e-01 1.00451701e+00 2.54488061e+00\n",
      " 3.74874871e+00 5.57695017e+00 6.59702218e+00 7.48029823e+00\n",
      " 8.01987524e+00 8.21436844e+00 9.83257319e+00 1.03892858e+01\n",
      " 1.05758993e+01 1.11682436e+01 1.13839996e+01 1.23469480e+01\n",
      " 1.30124772e+01 1.39054479e+01 1.39747675e+01 1.41780490e+01\n",
      " 1.48339311e+01 1.52099502e+01 1.52411345e+01 1.53818900e+01\n",
      " 1.57192529e+01 1.59833839e+01 1.64437654e+01 1.62302104e+01\n",
      " 1.67379031e+01 1.69518171e+01 1.71155816e+01 1.72340120e+01\n",
      " 1.76474932e+01 1.79049769e+01 1.80277275e+01 1.81375901e+01\n",
      " 1.82394463e+01 1.87096217e+01 1.94048949e+01 1.93390065e+01\n",
      " 1.99291499e+01 8.93734758e+01 2.74160320e+01 2.02710944e+01\n",
      " 2.02337568e+01 2.05257752e+01 2.07368506e+01 2.09168994e+01\n",
      " 2.11984639e+01 2.12600028e+01 2.16625057e+01 2.17334785e+01\n",
      " 2.23535520e+01 2.21137233e+01 2.27464545e+01 2.39050706e+01\n",
      " 2.34603647e+01 2.31655304e+01 2.32671233e+01 2.61302898e+01\n",
      " 2.59993708e+01 2.55475282e+01 2.46066055e+01 2.49008281e+01\n",
      " 2.51396648e+01 2.50186462e+01 1.60000000e+01 2.69173628e+01\n",
      " 2.80049295e+01 2.85659652e+01 3.25831706e+01 3.22658338e+01\n",
      " 3.21637401e+01 3.16799032e+01 3.13535584e+01 2.89922286e+01\n",
      " 2.90884639e+01 2.94454693e+01 2.95174342e+01 3.09843297e+01\n",
      " 3.00699774e+01 3.06595928e+01 3.05386426e+01 3.02198121e+01\n",
      " 8.72912081e+01 3.44423231e+01 3.42178979e+01 3.33045888e+01\n",
      " 3.37361780e+01 3.36203456e+01 3.48032076e+01 3.50744955e+01\n",
      " 3.65774506e+01 3.65239736e+01 3.60830075e+01 3.56375400e+01\n",
      " 8.40400494e+01 8.30203136e+01 8.40000000e+01 2.10000000e+01\n",
      " 3.96023074e+01 3.90012519e+01 3.87970603e+01 3.80221405e+01\n",
      " 3.83567445e+01 3.74133821e+01 3.71313107e+01 3.56190544e+01\n",
      " 3.68361532e+01 3.48504015e+01 8.23608421e+01 8.20630756e+01\n",
      " 2.20000000e+01 4.31671257e+01 4.24335238e+01 4.21442567e+01\n",
      " 4.12061146e+01 4.12355648e+01 4.07509048e+01 4.00186818e+01\n",
      " 3.99025628e+01 3.99689760e+01 8.15393612e+01 8.14301654e+01\n",
      " 8.11351615e+01 8.09595804e+01 8.07919479e+01 8.04638768e+01\n",
      " 8.03030451e+01 8.02161304e+01 4.34633575e+01 4.40154784e+01\n",
      " 4.45609119e+01 4.48218373e+01 4.53270097e+01 4.66051537e+01\n",
      " 4.72954022e+01 4.80381231e+01 4.81088827e+01 4.87601761e+01\n",
      " 8.01274591e+01 8.00081623e+01 7.98990499e+01 7.95997542e+01\n",
      " 4.98996929e+01 5.00282624e+01 5.03827053e+01 5.10605388e+01\n",
      " 7.93594224e+01 7.91092658e+01 7.90363777e+01 7.88264092e+01\n",
      " 7.86610610e+01 7.86731651e+01 4.40000000e+01 4.60000000e+01\n",
      " 5.20099040e+01 5.21337914e+01 5.23785516e+01 5.31027451e+01\n",
      " 5.37827357e+01 5.40170795e+01 5.29901647e+01 5.30045560e+01\n",
      " 7.83250118e+01 7.84290221e+01 7.84831604e+01 7.81029168e+01\n",
      " 7.78689547e+01 7.72387849e+01 7.74565624e+01 7.75813776e+01\n",
      " 7.77456417e+01 7.76762771e+01 7.70091446e+01 7.67663544e+01\n",
      " 7.67082216e+01 7.65010466e+01 7.54410718e+01 7.56908304e+01\n",
      " 7.61773159e+01 7.60455479e+01 7.59147087e+01 5.00000000e+01\n",
      " 5.10000000e+01 5.46088645e+01 5.30000000e+01 5.49194794e+01\n",
      " 5.50091546e+01 5.55269620e+01 5.58036970e+01 5.59092408e+01\n",
      " 5.60229402e+01 5.63779312e+01 5.67402237e+01 5.68937566e+01\n",
      " 5.69253104e+01 7.51458827e+01 7.50663680e+01 5.20000000e+01\n",
      " 5.77154726e+01 5.72321637e+01 4.60000000e+01 5.82658413e+01\n",
      " 5.80362607e+01 5.78531435e+01 7.48863620e+01 7.47646358e+01\n",
      " 7.48153229e+01 7.80000000e+01 7.70000000e+01 7.43915910e+01\n",
      " 7.40817577e+01 7.41904151e+01 5.86882815e+01 5.87867317e+01\n",
      " 5.89101771e+01 5.92553995e+01 5.96374866e+01 5.98694600e+01\n",
      " 5.99213297e+01 7.39430780e+01 7.40176434e+01 7.40021794e+01\n",
      " 7.37400874e+01 7.35324421e+01 7.35528581e+01 7.32914167e+01\n",
      " 7.30772961e+01 7.28791541e+01 7.26753681e+01 7.24844952e+01\n",
      " 7.24017705e+01 7.23676159e+01 7.21546023e+01 6.05424861e+01\n",
      " 6.06131193e+01 6.10225122e+01 6.12502406e+01 6.13015852e+01\n",
      " 6.13408673e+01 6.15192482e+01 6.16306938e+01 6.18461064e+01\n",
      " 6.18919120e+01 7.20555693e+01 7.20204530e+01 7.18880430e+01\n",
      " 7.19509346e+01 7.19707268e+01 7.16657353e+01 7.15522162e+01\n",
      " 7.14799125e+01 7.20000000e+01 7.13141360e+01 7.12755800e+01\n",
      " 7.11699508e+01 5.90000000e+01 5.90000000e+01 6.20323712e+01\n",
      " 6.21463582e+01 6.22578521e+01 6.23520904e+01 6.24535123e+01\n",
      " 6.24678911e+01 6.25803040e+01 6.27253114e+01 6.28682800e+01\n",
      " 6.29246463e+01 7.10826737e+01 7.10267239e+01 7.08802516e+01\n",
      " 7.08310286e+01 7.07187728e+01 7.03198273e+01 7.03477350e+01\n",
      " 7.06305651e+01 7.04677721e+01 7.04989676e+01 7.05366672e+01\n",
      " 6.25139259e+01 6.30019516e+01 6.30558595e+01 6.32858623e+01\n",
      " 6.33919144e+01 6.31570513e+01 6.31189309e+01 6.35908842e+01\n",
      " 6.36050777e+01 6.37555956e+01 6.43268269e+01 6.43071114e+01\n",
      " 6.39088133e+01 6.40463406e+01 6.41479775e+01 6.41201192e+01\n",
      " 6.39493755e+01 7.01354694e+01 6.46737203e+01 6.44535113e+01\n",
      " 6.48763993e+01 6.49773657e+01 7.00768901e+01 6.99905419e+01\n",
      " 6.99070722e+01 6.98846460e+01 6.97971105e+01 6.97309972e+01\n",
      " 6.96889542e+01 6.95188987e+01 6.94378671e+01 6.93888148e+01\n",
      " 6.92822758e+01 6.91363492e+01 6.51861825e+01 6.52877101e+01\n",
      " 6.53189807e+01 6.54424927e+01 6.73274267e+01 6.56149894e+01\n",
      " 6.53988777e+01 6.57414441e+01 6.57119223e+01 6.56715101e+01\n",
      " 6.66863847e+01 6.64619643e+01 6.59670640e+01 6.90174091e+01\n",
      " 6.90444856e+01 6.89330494e+01 6.88440726e+01 6.88038512e+01\n",
      " 6.86724519e+01 6.88842813e+01 6.83948088e+01 6.86212623e+01\n",
      " 6.86006224e+01 6.83613157e+01 6.82929418e+01 6.58717331e+01\n",
      " 6.60823485e+01 6.60114685e+01 6.62003822e+01 6.63108373e+01\n",
      " 6.63822319e+01 6.61124148e+01 6.65359512e+01 6.68484242e+01\n",
      " 6.69144856e+01 6.70312142e+01 6.70092590e+01 6.75134134e+01\n",
      " 6.74342514e+01 6.73888372e+01 6.77000007e+01 6.67949292e+01\n",
      " 6.70930444e+01 6.77838183e+01 6.76430296e+01 6.78457944e+01\n",
      " 6.79694334e+01 6.82130616e+01 6.65780423e+01 6.80644006e+01\n",
      " 6.81500007e+01 6.81915037e+01 6.79924743e+01 6.81318188e+01\n",
      " 6.80968349e+01 6.30000000e+01 7.10000000e+01 6.60000000e+01\n",
      " 6.80000000e+01]\n"
     ]
    }
   ],
   "source": [
    "e_value, e_vector = np.linalg.eig(L_M)\n",
    "print('eigenvalues:')\n",
    "print(e_value)"
   ]
  },
  {
   "cell_type": "code",
   "execution_count": 82,
   "metadata": {},
   "outputs": [
    {
     "name": "stdout",
     "output_type": "stream",
     "text": [
      "eigenvectors:\n",
      "[[ 5.17780373e-02  1.88877319e-01 -7.23443475e-02 ...  1.28215783e-19\n",
      "  -7.28537912e-20  1.13910309e-19]\n",
      " [ 5.17780373e-02  1.92559780e-01 -7.76433510e-02 ... -1.64415660e-18\n",
      "  -4.77415324e-18 -4.99163377e-18]\n",
      " [ 5.17780373e-02  1.89545818e-01 -7.36321639e-02 ... -3.89991623e-18\n",
      "   5.41401410e-18  2.67560255e-17]\n",
      " ...\n",
      " [ 5.17780373e-02 -2.86057944e-02 -5.70751317e-02 ...  4.25788440e-17\n",
      "  -5.75348008e-16 -3.76505938e-16]\n",
      " [ 5.17780373e-02 -2.85451416e-02 -5.66646494e-02 ... -1.25622510e-16\n",
      "   1.09446888e-15 -3.07338310e-17]\n",
      " [ 5.17780373e-02 -2.85857226e-02 -5.69384949e-02 ... -1.98078277e-16\n",
      "   2.97403590e-16  8.53506899e-16]]\n"
     ]
    }
   ],
   "source": [
    "print('eigenvectors:')\n",
    "print(e_vector)"
   ]
  },
  {
   "cell_type": "code",
   "execution_count": 83,
   "metadata": {},
   "outputs": [
    {
     "data": {
      "text/plain": [
       "(array([1], dtype=int64),)"
      ]
     },
     "execution_count": 83,
     "metadata": {},
     "output_type": "execute_result"
    }
   ],
   "source": [
    "np.where(e_value == np.partition(e_value, 1)[1])"
   ]
  },
  {
   "cell_type": "code",
   "execution_count": 84,
   "metadata": {},
   "outputs": [
    {
     "data": {
      "image/png": "[encoded data removed]",
      "text/plain": [
       "<Figure size 720x504 with 1 Axes>"
      ]
     },
     "metadata": {
      "needs_background": "light"
     },
     "output_type": "display_data"
    }
   ],
   "source": [
    "y_spec =e_vector[:,1].copy()\n",
    "y_spec[y_spec < 0] = 0\n",
    "y_spec[y_spec > 0] = 1\n",
    "type(y_spec),y_spec.shape\n",
    "\n",
    "\n",
    "fig, ax = plt.subplots(figsize=(10,7))\n",
    "\n",
    "plt.scatter(Arr[:, 0], Arr[:, 1],c=y_spec, alpha=0.5, cmap='cool')\n",
    "plt.show()"
   ]
  },
  {
   "cell_type": "code",
   "execution_count": 85,
   "metadata": {},
   "outputs": [
    {
     "data": {
      "text/plain": [
       "array([1, 1, 1, 1, 1, 1, 1, 1, 1, 1, 1, 1, 1, 1, 1, 1, 1, 1, 1, 1, 1, 1,\n",
       "       1, 1, 1, 1, 1, 1, 1, 1, 1, 1, 1, 1, 1, 1, 1, 1, 1, 1, 1, 1, 1, 1,\n",
       "       1, 1, 1, 1, 1, 1, 1, 1, 1, 1, 1, 1, 1, 1, 1, 1, 1, 1, 1, 1, 1, 1,\n",
       "       1, 1, 1, 1, 1, 1, 1, 1, 1, 1, 1, 1, 1, 0, 0, 0, 1, 1, 1, 1, 1, 1,\n",
       "       1, 1, 1, 1, 1, 0, 1, 1, 1, 1, 0, 0, 0, 0, 0, 0, 0, 0, 0, 0, 0, 0,\n",
       "       0, 0, 0, 0, 0, 0, 0, 0, 0, 0, 0, 0, 0, 0, 0, 0, 0, 0, 0, 0, 0, 0,\n",
       "       0, 0, 0, 0, 0, 0, 0, 0, 0, 0, 0, 0, 0, 0, 0, 0, 0, 0, 0, 0, 0, 0,\n",
       "       0, 0, 0, 0, 0, 0, 0, 0, 0, 0, 0, 0, 0, 0, 0, 0, 0, 0, 0, 0, 0, 0,\n",
       "       0, 0, 0, 0, 0, 0, 0, 0, 0, 0, 0, 0, 0, 0, 0, 0, 0, 0, 0, 0, 0, 0,\n",
       "       0, 0, 0, 0, 0, 0, 0, 0, 0, 0, 0, 0, 0, 0, 0, 0, 0, 0, 0, 0, 0, 0,\n",
       "       0, 0, 0, 0, 0, 0, 0, 0, 0, 0, 0, 0, 0, 0, 0, 0, 0, 0, 0, 0, 0, 0,\n",
       "       0, 0, 0, 0, 0, 0, 0, 0, 0, 0, 0, 0, 0, 0, 0, 0, 0, 0, 0, 0, 0, 0,\n",
       "       0, 0, 0, 0, 0, 0, 0, 0, 0, 0, 0, 0, 0, 0, 0, 0, 0, 0, 0, 0, 0, 0,\n",
       "       0, 0, 0, 0, 0, 0, 0, 0, 0, 0, 0, 0, 0, 0, 0, 0, 0, 0, 0, 0, 0, 0,\n",
       "       0, 0, 0, 0, 0, 0, 0, 0, 0, 0, 0, 0, 0, 0, 0, 0, 0, 0, 0, 0, 0, 0,\n",
       "       0, 0, 0, 0, 0, 0, 0, 0, 0, 0, 0, 0, 0, 0, 0, 0, 0, 0, 0, 0, 0, 0,\n",
       "       0, 0, 0, 0, 0, 0, 0, 0, 0, 0, 0, 0, 0, 0, 0, 0, 0, 0, 0, 0, 0])"
      ]
     },
     "execution_count": 85,
     "metadata": {},
     "output_type": "execute_result"
    }
   ],
   "source": [
    "yint_spec=y_spec.astype(int)\n",
    "yint_spec"
   ]
  },
  {
   "cell_type": "code",
   "execution_count": 86,
   "metadata": {},
   "outputs": [],
   "source": [
    "e=[]\n",
    "for i in yint_spec:\n",
    "    if i==1:\n",
    "        e.append(2)\n",
    "    else:\n",
    "        e.append(1)"
   ]
  },
  {
   "cell_type": "code",
   "execution_count": 87,
   "metadata": {},
   "outputs": [],
   "source": [
    "ds['3']=e"
   ]
  },
  {
   "cell_type": "code",
   "execution_count": 88,
   "metadata": {},
   "outputs": [],
   "source": [
    "ds_mod=ds[ds[2]==ds['3']]"
   ]
  },
  {
   "cell_type": "code",
   "execution_count": 89,
   "metadata": {},
   "outputs": [
    {
     "data": {
      "text/html": [
       "<div>\n",
       "<style scoped>\n",
       "    .dataframe tbody tr th:only-of-type {\n",
       "        vertical-align: middle;\n",
       "    }\n",
       "\n",
       "    .dataframe tbody tr th {\n",
       "        vertical-align: top;\n",
       "    }\n",
       "\n",
       "    .dataframe thead th {\n",
       "        text-align: right;\n",
       "    }\n",
       "</style>\n",
       "<table border=\"1\" class=\"dataframe\">\n",
       "  <thead>\n",
       "    <tr style=\"text-align: right;\">\n",
       "      <th></th>\n",
       "      <th>0</th>\n",
       "      <th>1</th>\n",
       "      <th>2</th>\n",
       "      <th>3</th>\n",
       "    </tr>\n",
       "  </thead>\n",
       "  <tbody>\n",
       "    <tr>\n",
       "      <th>0</th>\n",
       "      <td>0.85</td>\n",
       "      <td>17.45</td>\n",
       "      <td>2</td>\n",
       "      <td>2</td>\n",
       "    </tr>\n",
       "    <tr>\n",
       "      <th>1</th>\n",
       "      <td>0.75</td>\n",
       "      <td>15.60</td>\n",
       "      <td>2</td>\n",
       "      <td>2</td>\n",
       "    </tr>\n",
       "    <tr>\n",
       "      <th>2</th>\n",
       "      <td>3.30</td>\n",
       "      <td>15.45</td>\n",
       "      <td>2</td>\n",
       "      <td>2</td>\n",
       "    </tr>\n",
       "    <tr>\n",
       "      <th>3</th>\n",
       "      <td>5.25</td>\n",
       "      <td>14.20</td>\n",
       "      <td>2</td>\n",
       "      <td>2</td>\n",
       "    </tr>\n",
       "    <tr>\n",
       "      <th>4</th>\n",
       "      <td>4.90</td>\n",
       "      <td>15.65</td>\n",
       "      <td>2</td>\n",
       "      <td>2</td>\n",
       "    </tr>\n",
       "    <tr>\n",
       "      <th>...</th>\n",
       "      <td>...</td>\n",
       "      <td>...</td>\n",
       "      <td>...</td>\n",
       "      <td>...</td>\n",
       "    </tr>\n",
       "    <tr>\n",
       "      <th>368</th>\n",
       "      <td>38.75</td>\n",
       "      <td>16.85</td>\n",
       "      <td>1</td>\n",
       "      <td>1</td>\n",
       "    </tr>\n",
       "    <tr>\n",
       "      <th>369</th>\n",
       "      <td>39.00</td>\n",
       "      <td>16.60</td>\n",
       "      <td>1</td>\n",
       "      <td>1</td>\n",
       "    </tr>\n",
       "    <tr>\n",
       "      <th>370</th>\n",
       "      <td>38.25</td>\n",
       "      <td>17.35</td>\n",
       "      <td>1</td>\n",
       "      <td>1</td>\n",
       "    </tr>\n",
       "    <tr>\n",
       "      <th>371</th>\n",
       "      <td>39.50</td>\n",
       "      <td>16.95</td>\n",
       "      <td>1</td>\n",
       "      <td>1</td>\n",
       "    </tr>\n",
       "    <tr>\n",
       "      <th>372</th>\n",
       "      <td>39.90</td>\n",
       "      <td>17.05</td>\n",
       "      <td>1</td>\n",
       "      <td>1</td>\n",
       "    </tr>\n",
       "  </tbody>\n",
       "</table>\n",
       "<p>368 rows × 4 columns</p>\n",
       "</div>"
      ],
      "text/plain": [
       "         0      1  2  3\n",
       "0     0.85  17.45  2  2\n",
       "1     0.75  15.60  2  2\n",
       "2     3.30  15.45  2  2\n",
       "3     5.25  14.20  2  2\n",
       "4     4.90  15.65  2  2\n",
       "..     ...    ... .. ..\n",
       "368  38.75  16.85  1  1\n",
       "369  39.00  16.60  1  1\n",
       "370  38.25  17.35  1  1\n",
       "371  39.50  16.95  1  1\n",
       "372  39.90  17.05  1  1\n",
       "\n",
       "[368 rows x 4 columns]"
      ]
     },
     "execution_count": 89,
     "metadata": {},
     "output_type": "execute_result"
    }
   ],
   "source": [
    "ds_mod"
   ]
  },
  {
   "cell_type": "code",
   "execution_count": 90,
   "metadata": {},
   "outputs": [
    {
     "name": "stdout",
     "output_type": "stream",
     "text": [
      "The accuracy is 98.65951742627345\n"
     ]
    }
   ],
   "source": [
    "accuracy=len(ds_mod)/(len(ds))\n",
    "print(\"The accuracy is\", accuracy*100)"
   ]
  },
  {
   "cell_type": "code",
   "execution_count": null,
   "metadata": {},
   "outputs": [],
   "source": []
  }
 ],
 "metadata": {
  "kernelspec": {
   "display_name": "Python 3",
   "language": "python",
   "name": "python3"
  },
  "language_info": {
   "codemirror_mode": {
    "name": "ipython",
    "version": 3
   },
   "file_extension": ".py",
   "mimetype": "text/x-python",
   "name": "python",
   "nbconvert_exporter": "python",
   "pygments_lexer": "ipython3",
   "version": "3.8.5"
  }
 },
 "nbformat": 4,
 "nbformat_minor": 4
}
